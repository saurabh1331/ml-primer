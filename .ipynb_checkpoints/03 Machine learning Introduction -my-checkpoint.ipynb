{
 "cells": [
  {
   "cell_type": "markdown",
   "metadata": {},
   "source": [
    "## What is Machine Learning "
   ]
  },
  {
   "cell_type": "markdown",
   "metadata": {},
   "source": [
    "You can think of machine learning as a pettern recognition. \n",
    "\n",
    "Essentially, it is a method of teaching computers to make and improve predictions or behaviors based on some data. What is this \"data\"? Well, that depends entirely on the problem. It could be readings from a robot's sensors as it learns to walk, or the correct output of a program for certain input.\n",
    "\n",
    "Another way to think about machine learning is that it is \"pattern recognition\" - the act of teaching a program to react to or recognize patterns."
   ]
  },
  {
   "cell_type": "markdown",
   "metadata": {},
   "source": [
    "**Data Format**\n",
    "\n",
    "Most of the data in machine learning can be represented in tables. Rows in the table correspond to data point. Columns in the tables corresponds to feature. Total number of feature is called Dimensionality of the data (D). So, every data point would have D number of data point. As a convention, Input is called X and output is called Y (labels). \n",
    "\n",
    "** Types of Machine learning **\n",
    "\n",
    "There is mainly two types of machine learning.\n",
    "- *Supervised Learning* : You have some pre knowledge of the data i.e. For some given x, y is known. Based on these data, algorithm learns the pattern and predict y for any newcoming x.\n",
    "\n",
    "- *Unsupervised Learning* : You do not have pre lables to the data. We want to find out hidden structure in the data. \n",
    "\n",
    "\n",
    "\n"
   ]
  },
  {
   "cell_type": "code",
   "execution_count": null,
   "metadata": {
    "collapsed": true
   },
   "outputs": [],
   "source": []
  }
 ],
 "metadata": {
  "kernelspec": {
   "display_name": "Python 2",
   "language": "python",
   "name": "python2"
  },
  "language_info": {
   "codemirror_mode": {
    "name": "ipython",
    "version": 2
   },
   "file_extension": ".py",
   "mimetype": "text/x-python",
   "name": "python",
   "nbconvert_exporter": "python",
   "pygments_lexer": "ipython2",
   "version": "2.7.10"
  }
 },
 "nbformat": 4,
 "nbformat_minor": 0
}
